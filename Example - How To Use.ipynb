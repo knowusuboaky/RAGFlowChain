{
 "cells": [
  {
   "cell_type": "code",
   "execution_count": 1,
   "metadata": {},
   "outputs": [],
   "source": [
    "## Installation of Library\n",
    "#!pip install RAGFlowChain==0.5.0"
   ]
  },
  {
   "cell_type": "code",
   "execution_count": 2,
   "metadata": {},
   "outputs": [],
   "source": [
    "from RAGFlowChain import data_loader\n",
    "from RAGFlowChain import create_database\n",
    "from RAGFlowChain import create_rag_chain"
   ]
  },
  {
   "cell_type": "code",
   "execution_count": 3,
   "metadata": {},
   "outputs": [],
   "source": [
    "## API Keys\n",
    "import yaml\n",
    "import os\n",
    "\n",
    "PATH_CREDENTIALS = 'credentials.yml'\n",
    "\n",
    "BOOKS_API_KEY = yaml.safe_load(open(PATH_CREDENTIALS))['book']\n",
    "NEWS_API_KEY = yaml.safe_load(open(PATH_CREDENTIALS))['news']\n",
    "YOUTUBE_API_KEY = yaml.safe_load(open(PATH_CREDENTIALS))['youtube']\n"
   ]
  },
  {
   "cell_type": "markdown",
   "metadata": {},
   "source": [
    "### 1. Fetch Data from Multiple Sources"
   ]
  },
  {
   "cell_type": "code",
   "execution_count": 4,
   "metadata": {},
   "outputs": [
    {
     "name": "stdout",
     "output_type": "stream",
     "text": [
      "Skipping unsupported file type: .py\n",
      "Skipping unsupported file type: .py\n",
      "Skipping unsupported file type: .py\n"
     ]
    },
    {
     "name": "stderr",
     "output_type": "stream",
     "text": [
      "Ignoring wrong pointing object 185 0 (offset 0)\n",
      "Ignoring wrong pointing object 421 0 (offset 0)\n",
      "Ignoring wrong pointing object 423 0 (offset 0)\n",
      "Ignoring wrong pointing object 430 0 (offset 0)\n",
      "Ignoring wrong pointing object 643 0 (offset 0)\n",
      "Ignoring wrong pointing object 860 0 (offset 0)\n",
      "Ignoring wrong pointing object 892 0 (offset 0)\n",
      "Ignoring wrong pointing object 894 0 (offset 0)\n",
      "Ignoring wrong pointing object 928 0 (offset 0)\n",
      "Ignoring wrong pointing object 1047 0 (offset 0)\n",
      "Ignoring wrong pointing object 1124 0 (offset 0)\n",
      "Ignoring wrong pointing object 1138 0 (offset 0)\n",
      "Ignoring wrong pointing object 1148 0 (offset 0)\n",
      "Ignoring wrong pointing object 1173 0 (offset 0)\n",
      "Ignoring wrong pointing object 1380 0 (offset 0)\n",
      "Ignoring wrong pointing object 1405 0 (offset 0)\n",
      "Ignoring wrong pointing object 1468 0 (offset 0)\n",
      "Ignoring wrong pointing object 1520 0 (offset 0)\n",
      "Ignoring wrong pointing object 1578 0 (offset 0)\n",
      "Ignoring wrong pointing object 1670 0 (offset 0)\n",
      "Ignoring wrong pointing object 1673 0 (offset 0)\n",
      "Ignoring wrong pointing object 1762 0 (offset 0)\n",
      "Ignoring wrong pointing object 1879 0 (offset 0)\n",
      "Ignoring wrong pointing object 1894 0 (offset 0)\n",
      "Ignoring wrong pointing object 1913 0 (offset 0)\n",
      "Ignoring wrong pointing object 1978 0 (offset 0)\n",
      "Ignoring wrong pointing object 1996 0 (offset 0)\n",
      "Ignoring wrong pointing object 1998 0 (offset 0)\n",
      "Ignoring wrong pointing object 2180 0 (offset 0)\n",
      "Ignoring wrong pointing object 2182 0 (offset 0)\n",
      "Ignoring wrong pointing object 2186 0 (offset 0)\n",
      "Ignoring wrong pointing object 2190 0 (offset 0)\n",
      "Ignoring wrong pointing object 2229 0 (offset 0)\n",
      "Ignoring wrong pointing object 2277 0 (offset 0)\n",
      "Ignoring wrong pointing object 2306 0 (offset 0)\n",
      "Ignoring wrong pointing object 2332 0 (offset 0)\n",
      "Ignoring wrong pointing object 2676 0 (offset 0)\n",
      "Ignoring wrong pointing object 2750 0 (offset 0)\n",
      "Ignoring wrong pointing object 2897 0 (offset 0)\n",
      "Ignoring wrong pointing object 3267 0 (offset 0)\n",
      "Ignoring wrong pointing object 3318 0 (offset 0)\n",
      "Ignoring wrong pointing object 3539 0 (offset 0)\n",
      "Ignoring wrong pointing object 3558 0 (offset 0)\n",
      "Ignoring wrong pointing object 3961 0 (offset 0)\n",
      "Ignoring wrong pointing object 3963 0 (offset 0)\n",
      "Ignoring wrong pointing object 3978 0 (offset 0)\n",
      "Ignoring wrong pointing object 4082 0 (offset 0)\n",
      "Ignoring wrong pointing object 4084 0 (offset 0)\n",
      "Ignoring wrong pointing object 4088 0 (offset 0)\n",
      "Ignoring wrong pointing object 4791 0 (offset 0)\n"
     ]
    },
    {
     "name": "stdout",
     "output_type": "stream",
     "text": [
      "Skipping unsupported file type: .csv\n",
      "Skipping unsupported file type: .py\n",
      "Skipping unsupported file type: .sqlite3\n",
      "Skipping unsupported file type: .bin\n",
      "Skipping unsupported file type: .bin\n",
      "Skipping unsupported file type: .pickle\n",
      "Skipping unsupported file type: .bin\n",
      "Skipping unsupported file type: .bin\n",
      "Skipping unsupported file type: .pyc\n",
      "Skipping unsupported file type: .pyc\n",
      "Skipping unsupported file type: .pyc\n",
      "Skipping unsupported file type: .pyc\n"
     ]
    },
    {
     "data": {
      "text/html": [
       "<div>\n",
       "<style scoped>\n",
       "    .dataframe tbody tr th:only-of-type {\n",
       "        vertical-align: middle;\n",
       "    }\n",
       "\n",
       "    .dataframe tbody tr th {\n",
       "        vertical-align: top;\n",
       "    }\n",
       "\n",
       "    .dataframe thead th {\n",
       "        text-align: right;\n",
       "    }\n",
       "</style>\n",
       "<table border=\"1\" class=\"dataframe\">\n",
       "  <thead>\n",
       "    <tr style=\"text-align: right;\">\n",
       "      <th></th>\n",
       "      <th>source</th>\n",
       "      <th>title</th>\n",
       "      <th>author</th>\n",
       "      <th>publishedDate</th>\n",
       "      <th>description</th>\n",
       "      <th>content</th>\n",
       "      <th>url</th>\n",
       "      <th>source_type</th>\n",
       "    </tr>\n",
       "  </thead>\n",
       "  <tbody>\n",
       "    <tr>\n",
       "      <th>0</th>\n",
       "      <td>wMzA8gwALyA</td>\n",
       "      <td>Updated 2025 Acura MDX review // One change ma...</td>\n",
       "      <td>Motormouth</td>\n",
       "      <td>NaN</td>\n",
       "      <td>Unknown</td>\n",
       "      <td>we've got the 2025 Acura MDX with some nice up...</td>\n",
       "      <td>https://www.youtube.com/watch?v=wMzA8gwALyA</td>\n",
       "      <td>youtube</td>\n",
       "    </tr>\n",
       "    <tr>\n",
       "      <th>1</th>\n",
       "      <td>N0TxeDgVhNQ</td>\n",
       "      <td>The Acura NSX Type S is an exclusive, JDM, Hyb...</td>\n",
       "      <td>Forrest's Auto Reviews</td>\n",
       "      <td>NaN</td>\n",
       "      <td>Unknown</td>\n",
       "      <td>what is up guys right behind me is the Acura N...</td>\n",
       "      <td>https://www.youtube.com/watch?v=N0TxeDgVhNQ</td>\n",
       "      <td>youtube</td>\n",
       "    </tr>\n",
       "    <tr>\n",
       "      <th>2</th>\n",
       "      <td>tVcDNzA9VJY</td>\n",
       "      <td>The new Acura Integra is a nicer Civic Si.</td>\n",
       "      <td>Forrest's Auto Reviews</td>\n",
       "      <td>NaN</td>\n",
       "      <td>Unknown</td>\n",
       "      <td>what is up guys right behind me is a brand new...</td>\n",
       "      <td>https://www.youtube.com/watch?v=tVcDNzA9VJY</td>\n",
       "      <td>youtube</td>\n",
       "    </tr>\n",
       "    <tr>\n",
       "      <th>3</th>\n",
       "      <td>b3lPbVTsXc8</td>\n",
       "      <td>Honda (Acura) NSX vs Nissan GT-R DRAG &amp; ROLLIN...</td>\n",
       "      <td>carwow</td>\n",
       "      <td>NaN</td>\n",
       "      <td>Unknown</td>\n",
       "      <td>I'm in a Honda NSX next to me is in this I'm G...</td>\n",
       "      <td>https://www.youtube.com/watch?v=b3lPbVTsXc8</td>\n",
       "      <td>youtube</td>\n",
       "    </tr>\n",
       "    <tr>\n",
       "      <th>4</th>\n",
       "      <td>UBHOSNaLChU</td>\n",
       "      <td>BEST HONDA 3-ROW?? -- 2024 Acura MDX Advance v...</td>\n",
       "      <td>Car Confections</td>\n",
       "      <td>NaN</td>\n",
       "      <td>Unknown</td>\n",
       "      <td>what's going on YouTube smart Shoppers know th...</td>\n",
       "      <td>https://www.youtube.com/watch?v=UBHOSNaLChU</td>\n",
       "      <td>youtube</td>\n",
       "    </tr>\n",
       "    <tr>\n",
       "      <th>...</th>\n",
       "      <td>...</td>\n",
       "      <td>...</td>\n",
       "      <td>...</td>\n",
       "      <td>...</td>\n",
       "      <td>...</td>\n",
       "      <td>...</td>\n",
       "      <td>...</td>\n",
       "      <td>...</td>\n",
       "    </tr>\n",
       "    <tr>\n",
       "      <th>670</th>\n",
       "      <td>C:/Users/kwadw.DESKTOP-T9BSTPE/OneDrive/Deskto...</td>\n",
       "      <td>NaN</td>\n",
       "      <td>NaN</td>\n",
       "      <td>NaN</td>\n",
       "      <td>NaN</td>\n",
       "      <td>[MATT FRIEND ] \\n \\nYes, Bob, another indicato...</td>\n",
       "      <td>NaN</td>\n",
       "      <td>pdf</td>\n",
       "    </tr>\n",
       "    <tr>\n",
       "      <th>671</th>\n",
       "      <td>C:/Users/kwadw.DESKTOP-T9BSTPE/OneDrive/Deskto...</td>\n",
       "      <td>NaN</td>\n",
       "      <td>NaN</td>\n",
       "      <td>NaN</td>\n",
       "      <td>NaN</td>\n",
       "      <td>And that does conclude our conference for toda...</td>\n",
       "      <td>NaN</td>\n",
       "      <td>pdf</td>\n",
       "    </tr>\n",
       "    <tr>\n",
       "      <th>672</th>\n",
       "      <td>C:/Users/kwadw.DESKTOP-T9BSTPE/OneDrive/Deskto...</td>\n",
       "      <td>NaN</td>\n",
       "      <td>NaN</td>\n",
       "      <td>NaN</td>\n",
       "      <td>NaN</td>\n",
       "      <td>Kwadwo Nyame Owusu-Boakye\\nBrampton, ON\\n♂¶obi...</td>\n",
       "      <td>NaN</td>\n",
       "      <td>pdf</td>\n",
       "    </tr>\n",
       "    <tr>\n",
       "      <th>673</th>\n",
       "      <td>C:/Users/kwadw.DESKTOP-T9BSTPE/OneDrive/Deskto...</td>\n",
       "      <td>NaN</td>\n",
       "      <td>NaN</td>\n",
       "      <td>NaN</td>\n",
       "      <td>NaN</td>\n",
       "      <td>CIBC Toronto, ON\\nSenior Business Analyst, Ana...</td>\n",
       "      <td>NaN</td>\n",
       "      <td>pdf</td>\n",
       "    </tr>\n",
       "    <tr>\n",
       "      <th>674</th>\n",
       "      <td>C:/Users/kwadw.DESKTOP-T9BSTPE/OneDrive/Deskto...</td>\n",
       "      <td>NaN</td>\n",
       "      <td>NaN</td>\n",
       "      <td>NaN</td>\n",
       "      <td>NaN</td>\n",
       "      <td>Personal Projects &amp; Publications\\nSignificant ...</td>\n",
       "      <td>NaN</td>\n",
       "      <td>pdf</td>\n",
       "    </tr>\n",
       "  </tbody>\n",
       "</table>\n",
       "<p>675 rows × 8 columns</p>\n",
       "</div>"
      ],
      "text/plain": [
       "                                                source  \\\n",
       "0                                          wMzA8gwALyA   \n",
       "1                                          N0TxeDgVhNQ   \n",
       "2                                          tVcDNzA9VJY   \n",
       "3                                          b3lPbVTsXc8   \n",
       "4                                          UBHOSNaLChU   \n",
       "..                                                 ...   \n",
       "670  C:/Users/kwadw.DESKTOP-T9BSTPE/OneDrive/Deskto...   \n",
       "671  C:/Users/kwadw.DESKTOP-T9BSTPE/OneDrive/Deskto...   \n",
       "672  C:/Users/kwadw.DESKTOP-T9BSTPE/OneDrive/Deskto...   \n",
       "673  C:/Users/kwadw.DESKTOP-T9BSTPE/OneDrive/Deskto...   \n",
       "674  C:/Users/kwadw.DESKTOP-T9BSTPE/OneDrive/Deskto...   \n",
       "\n",
       "                                                 title  \\\n",
       "0    Updated 2025 Acura MDX review // One change ma...   \n",
       "1    The Acura NSX Type S is an exclusive, JDM, Hyb...   \n",
       "2           The new Acura Integra is a nicer Civic Si.   \n",
       "3    Honda (Acura) NSX vs Nissan GT-R DRAG & ROLLIN...   \n",
       "4    BEST HONDA 3-ROW?? -- 2024 Acura MDX Advance v...   \n",
       "..                                                 ...   \n",
       "670                                                NaN   \n",
       "671                                                NaN   \n",
       "672                                                NaN   \n",
       "673                                                NaN   \n",
       "674                                                NaN   \n",
       "\n",
       "                     author publishedDate description  \\\n",
       "0                Motormouth           NaN     Unknown   \n",
       "1    Forrest's Auto Reviews           NaN     Unknown   \n",
       "2    Forrest's Auto Reviews           NaN     Unknown   \n",
       "3                    carwow           NaN     Unknown   \n",
       "4           Car Confections           NaN     Unknown   \n",
       "..                      ...           ...         ...   \n",
       "670                     NaN           NaN         NaN   \n",
       "671                     NaN           NaN         NaN   \n",
       "672                     NaN           NaN         NaN   \n",
       "673                     NaN           NaN         NaN   \n",
       "674                     NaN           NaN         NaN   \n",
       "\n",
       "                                               content  \\\n",
       "0    we've got the 2025 Acura MDX with some nice up...   \n",
       "1    what is up guys right behind me is the Acura N...   \n",
       "2    what is up guys right behind me is a brand new...   \n",
       "3    I'm in a Honda NSX next to me is in this I'm G...   \n",
       "4    what's going on YouTube smart Shoppers know th...   \n",
       "..                                                 ...   \n",
       "670  [MATT FRIEND ] \\n \\nYes, Bob, another indicato...   \n",
       "671  And that does conclude our conference for toda...   \n",
       "672  Kwadwo Nyame Owusu-Boakye\\nBrampton, ON\\n♂¶obi...   \n",
       "673  CIBC Toronto, ON\\nSenior Business Analyst, Ana...   \n",
       "674  Personal Projects & Publications\\nSignificant ...   \n",
       "\n",
       "                                             url source_type  \n",
       "0    https://www.youtube.com/watch?v=wMzA8gwALyA     youtube  \n",
       "1    https://www.youtube.com/watch?v=N0TxeDgVhNQ     youtube  \n",
       "2    https://www.youtube.com/watch?v=tVcDNzA9VJY     youtube  \n",
       "3    https://www.youtube.com/watch?v=b3lPbVTsXc8     youtube  \n",
       "4    https://www.youtube.com/watch?v=UBHOSNaLChU     youtube  \n",
       "..                                           ...         ...  \n",
       "670                                          NaN         pdf  \n",
       "671                                          NaN         pdf  \n",
       "672                                          NaN         pdf  \n",
       "673                                          NaN         pdf  \n",
       "674                                          NaN         pdf  \n",
       "\n",
       "[675 rows x 8 columns]"
      ]
     },
     "execution_count": 4,
     "metadata": {},
     "output_type": "execute_result"
    }
   ],
   "source": [
    "#from ragflowchain import data_loader\n",
    "\n",
    "# Define online and local data sources\n",
    "# Define URLs for websites\n",
    "urls = [\n",
    "    \"https://www.honda.ca/en\",\n",
    "    \"https://www.honda.ca/en/vehicles\",\n",
    "    \"https://www.honda.ca/en/odyssey\"\n",
    "]\n",
    "\n",
    "# Define online sources\n",
    "online_sources = {\n",
    "    'youtube': {\n",
    "        'topic': 'honda acura',\n",
    "        'api_key': YOUTUBE_API_KEY,\n",
    "        'max_results': 10\n",
    "    },\n",
    "    'websites': urls,\n",
    "    'books': {\n",
    "        'api_key': BOOKS_API_KEY,\n",
    "        'query': 'automobile industry',\n",
    "        'max_results': 10\n",
    "    },\n",
    "    'news_articles': {\n",
    "        'api_key': NEWS_API_KEY,\n",
    "        'query': 'automobile marketing',\n",
    "        'page_size': 5,\n",
    "        'max_pages': 1\n",
    "    }\n",
    "}\n",
    "\n",
    "paths = [\n",
    "    \"C:/Users/kwadw.DESKTOP-T9BSTPE/OneDrive/Desktop/My Python Packages/RAGFlowChain/RAGFlowChain\"\n",
    "]\n",
    "local_sources = paths\n",
    "\n",
    "# Fetch and process the data\n",
    "final_data_df = data_loader(online_sources=online_sources, local_sources=local_sources, chunk_size=10000)\n",
    "\n",
    "# Display the DataFrame\n",
    "final_data_df"
   ]
  },
  {
   "cell_type": "markdown",
   "metadata": {},
   "source": [
    "### 2. Create a Vector Database"
   ]
  },
  {
   "cell_type": "code",
   "execution_count": 5,
   "metadata": {},
   "outputs": [],
   "source": [
    "# Using OpenAI Embeddings\n",
    "from langchain_openai import OpenAIEmbeddings\n",
    "\n",
    "OPENAI_API_KEY = yaml.safe_load(open('credentials.yml'))['openai']"
   ]
  },
  {
   "cell_type": "code",
   "execution_count": 6,
   "metadata": {},
   "outputs": [],
   "source": [
    "# Create a vector store from the processed data\n",
    "\n",
    "embedding_function = OpenAIEmbeddings(\n",
    "    model='text-embedding-ada-002',\n",
    "    api_key=OPENAI_API_KEY\n",
    ")\n",
    "\n",
    "vectorstore, docs_recursive = create_database(\n",
    "    df=final_data_df,\n",
    "    page_content=\"content\",\n",
    "    embedding_function=embedding_function,  # Uses default SentenceTransformerEmbeddings if embedding_function = None\n",
    "    vectorstore_method='Chroma',  # Options: 'Chroma', 'FAISS', 'Annoy', 'ScaNN'\n",
    "    vectorstore_directory=\"data/chroma.db\",\n",
    "    chunk_size=1000,\n",
    "    chunk_overlap=100\n",
    ")"
   ]
  },
  {
   "cell_type": "code",
   "execution_count": 7,
   "metadata": {},
   "outputs": [
    {
     "data": {
      "text/plain": [
       "<langchain_community.vectorstores.chroma.Chroma at 0x29d2915b0b0>"
      ]
     },
     "execution_count": 7,
     "metadata": {},
     "output_type": "execute_result"
    }
   ],
   "source": [
    "vectorstore"
   ]
  },
  {
   "cell_type": "code",
   "execution_count": 8,
   "metadata": {},
   "outputs": [
    {
     "data": {
      "text/plain": [
       "{'source': 'wMzA8gwALyA',\n",
       " 'title': 'Updated 2025 Acura MDX review // One change makes all the difference!',\n",
       " 'author': 'Motormouth',\n",
       " 'publishedDate': nan,\n",
       " 'description': 'Unknown',\n",
       " 'url': 'https://www.youtube.com/watch?v=wMzA8gwALyA',\n",
       " 'source_type': 'youtube'}"
      ]
     },
     "execution_count": 8,
     "metadata": {},
     "output_type": "execute_result"
    }
   ],
   "source": [
    "docs_recursive[0].metadata"
   ]
  },
  {
   "cell_type": "code",
   "execution_count": 9,
   "metadata": {},
   "outputs": [
    {
     "data": {
      "text/plain": [
       "\"we've got the 2025 Acura MDX with some nice updates finally here we go Zach TP pass for the win oh yeah I like this vehicle a lot if I was an MDX buyer this is the one I would get but today we're not just focusing on the tpass we're focusing on the MDX generally before we get into that this video is brought to you by Squarespace if you're looking to make a beautiful new website we'll tell you about it about halfway through the video and what's under the hood of the MDX a 3 l turbo V6 with a 10-speed automatic transmission 355 horsepower and 354 lb feet of torque standard all-wheel drive so that's this more expensive type pass the regular MDX has a 32 L V6 not turbocharged 290 horsepower 267 lb feet of torque in Canada standard all-wheel drive in the United States front-wheel drive and all-wheel drive options are available all right we're going to get into the key standard features of just the regular MDX the base MDX comes with a 12.3 in touchcreen and digital driver display Google and\""
      ]
     },
     "execution_count": 9,
     "metadata": {},
     "output_type": "execute_result"
    }
   ],
   "source": [
    "docs_recursive[0].page_content"
   ]
  },
  {
   "cell_type": "code",
   "execution_count": 10,
   "metadata": {},
   "outputs": [
    {
     "data": {
      "text/plain": [
       "2063"
      ]
     },
     "execution_count": 10,
     "metadata": {},
     "output_type": "execute_result"
    }
   ],
   "source": [
    "len(docs_recursive)"
   ]
  },
  {
   "cell_type": "code",
   "execution_count": 11,
   "metadata": {},
   "outputs": [
    {
     "name": "stdout",
     "output_type": "stream",
     "text": [
      "('data sets to facilitate strategic decision-making.\\n'\n",
      " '○Developed a Streamlit app to demonstrate the functionality of AI-driven '\n",
      " 'prediction models and prompt\\n'\n",
      " 'engineering techniques.\\n'\n",
      " 'Publicis Groupe Toronto, ON\\n'\n",
      " 'Senior Manager, Analytics & Strategy Jun 2022–Sep 2022\\n'\n",
      " '○Led cross-functional teams to optimize the efficiency and effectiveness of '\n",
      " 'marketing programs, driving cost\\n'\n",
      " 'reductions andimproved ROI on campaigns.\\n'\n",
      " '○Developed and refined advanced customer segmentation models to deliver '\n",
      " 'targeted marketing strategies,\\n'\n",
      " 'leading to a 15% increase in conversion rates.\\n'\n",
      " '○Utilized predictive analytics andA/B testing to enhance the performance of '\n",
      " 'digital marketing campaigns,\\n'\n",
      " 'improving client engagement metrics by over 20%.\\n'\n",
      " '○Implemented marketing mix modeling to assess the effectiveness of media '\n",
      " 'spending and optimize budget\\n'\n",
      " 'allocation for key clients.\\n'\n",
      " '○Delivered data-driven recommendations to senior management, improving the '\n",
      " 'alignment of marketing\\n'\n",
      " 'strategies with overall business objectives.\\n'\n",
      " '1/3')\n"
     ]
    }
   ],
   "source": [
    "# * Similarity Search: The whole reason we did this\n",
    "import pprint\n",
    "\n",
    "result = vectorstore.similarity_search(\"How to create a social media strategy\", k = 4)\n",
    "pprint.pprint(result[0].page_content)"
   ]
  },
  {
   "cell_type": "markdown",
   "metadata": {},
   "source": [
    "### 3. Build a RAG Chain"
   ]
  },
  {
   "cell_type": "code",
   "execution_count": 12,
   "metadata": {},
   "outputs": [
    {
     "name": "stderr",
     "output_type": "stream",
     "text": [
      "c:\\Users\\kwadw.DESKTOP-T9BSTPE\\OneDrive\\Desktop\\My Python Packages\\RAGFlowChain\\RAGFlowChain\\create_rag_chain.py:91: LangChainDeprecationWarning: The class `Chroma` was deprecated in LangChain 0.2.9 and will be removed in 1.0. An updated version of the class exists in the :class:`~langchain-chroma package and should be used instead. To use it run `pip install -U :class:`~langchain-chroma` and import as `from :class:`~langchain_chroma import Chroma``.\n",
      "  vectorstore = Chroma(\n"
     ]
    }
   ],
   "source": [
    "from langchain_openai import ChatOpenAI, OpenAIEmbeddings\n",
    "\n",
    "OPENAI_API_KEY = yaml.safe_load(open('credentials.yml'))['openai']\n",
    "os.environ['TAVILY_API_KEY'] = yaml.safe_load(open(PATH_CREDENTIALS))['online']\n",
    "\n",
    "# LLM Specification\n",
    "llm_model = ChatOpenAI(\n",
    "    model = 'gpt-3.5-turbo',\n",
    "    temperature = 0.7,\n",
    "    api_key=OPENAI_API_KEY\n",
    ")\n",
    "\n",
    "# Embedding function\n",
    "embedding_function = OpenAIEmbeddings(\n",
    "    model='text-embedding-ada-002',\n",
    "    api_key=OPENAI_API_KEY\n",
    ")\n",
    "\n",
    "# *Contextualize question: Integrates RAG\n",
    "contextualize_q_system_prompt = \"\"\"Given a chat history and the latest user question \\\n",
    "which might reference context in the chat history, formulate a standalone question \\\n",
    "which can be understood without the chat history. Do NOT answer the question, \\\n",
    "just reformulate it if needed and otherwise return it as is.\"\"\"\n",
    "\n",
    "# *Answer question based on Chat Context\n",
    "qa_system_prompt = \"\"\"You are an assistant for question-answering tasks. \\\n",
    "Use the following pieces of retrieved context to answer the question. \\\n",
    "If you don't know the answer, just say that you don't know. \\\n",
    "Use three sentences maximum and keep the answer concise.\\\n",
    "\n",
    "{context}\"\"\"\n",
    "\n",
    "rag_chain = create_rag_chain(\n",
    "    llm = llm_model,  # Replace with your LLM instance\n",
    "    vector_database_directory = \"data/chroma.db\",\n",
    "    method='Chroma',  # Choose 'Chroma', 'FAISS', or 'Annoy'\n",
    "    embedding_function = embedding_function,  # Optional, defaults to SentenceTransformerEmbeddings when embedding = None\n",
    "    system_prompt = qa_system_prompt,   # Optional: Customize your system prompt\n",
    "    chat_history_prompt = contextualize_q_system_prompt,  # Optional: Customize your chat history prompt\n",
    "    tavily_search=os.environ.get('TAVILY_API_KEY')\n",
    ")"
   ]
  },
  {
   "cell_type": "markdown",
   "metadata": {},
   "source": [
    "### 4. Run the RAG Chain Using `invoke` (AI Application)"
   ]
  },
  {
   "cell_type": "code",
   "execution_count": 13,
   "metadata": {},
   "outputs": [
    {
     "name": "stdout",
     "output_type": "stream",
     "text": [
      "Subject: Introducing Our Social Media Marketing Services and Expert Tips\n",
      "\n",
      "Dear [Prospective Client's Name],\n",
      "\n",
      "I hope this email finds you well. I am reaching out from [Your Company] to introduce our comprehensive social media marketing services designed to help businesses like yours thrive in the digital landscape. Our team has curated three expert tips from leading professionals in the field to enhance your social media strategy:\n",
      "\n",
      "1. Engage with your audience through interactive content and real-time responses.\n",
      "2. Utilize data analytics to track performance metrics and optimize your social media campaigns.\n",
      "3. Collaborate with influencers to expand your reach and credibility within your target market.\n",
      "\n",
      "As we aim to maximize your lead conversion rates, I would love to discuss strategies on converting leads into loyal customers. Would you be available for a quick 15-minute call to explore this further?\n",
      "\n",
      "Looking forward to the opportunity to work together and achieve your marketing goals.\n",
      "\n",
      "Best regards,\n",
      "[Your Name]\n",
      "[Your Position]\n",
      "[Your Contact Information]\n"
     ]
    }
   ],
   "source": [
    "# Example 1 usage with invoke method\n",
    "\n",
    "# Example input question\n",
    "question = \"\"\"\n",
    "Draft an email to a prospective client to introduce your social media marketing services. \n",
    "Give 3 tips based on experts in the space from our AI database. \n",
    "Transition to the next problem which is how to convert leads into customers. \n",
    "See if the client would like to schedule a 15-minute call to discuss further.\n",
    "\"\"\"\n",
    "\n",
    "# Invoke the chain\n",
    "result = rag_chain.invoke(\n",
    "    {\"input\": question}, \n",
    "    config={\n",
    "        \"configurable\": {\"session_id\": \"user123\"}\n",
    "    }\n",
    ")\n",
    "\n",
    "# Print the result\n",
    "print(result[\"answer\"])"
   ]
  },
  {
   "cell_type": "code",
   "execution_count": 14,
   "metadata": {},
   "outputs": [
    {
     "name": "stdout",
     "output_type": "stream",
     "text": [
      "Subject: Introducing Our Social Media Marketing Services and Expert Tips\n",
      "\n",
      "Dear Dave,\n",
      "\n",
      "I hope this email finds you well. I am reaching out from Daddy, Manager of ABCD BI Team, to introduce our comprehensive social media marketing services designed to help businesses like yours thrive in the digital landscape. Our team has curated three expert tips from leading professionals in the field to enhance your social media strategy:\n",
      "\n",
      "1. Engage with your audience through interactive content and real-time responses.\n",
      "2. Utilize data analytics to track performance metrics and optimize your social media campaigns.\n",
      "3. Collaborate with influencers to expand your reach and credibility within your target market.\n",
      "\n",
      "As we aim to maximize your lead conversion rates, I would love to discuss strategies on converting leads into loyal customers. Would you be available for a quick 15-minute call to explore this further?\n",
      "\n",
      "Looking forward to the opportunity to work together and achieve your marketing goals.\n",
      "\n",
      "Best regards,\n",
      "Daddy\n",
      "Manager of ABCD BI Team\n",
      "kwadwo.owusuboakye@outlook.com\n"
     ]
    }
   ],
   "source": [
    "# Follow up Question: Example 1 usage with invoke method\n",
    "\n",
    "# Example input question\n",
    "question = \"\"\"\n",
    "Please modify the following template:\n",
    "- Change the prospect's name to 'Dave'.\n",
    "- Update my name to 'Daddy' and my title to 'Manager of ABCD BI Team'.\n",
    "- Include my contact email: kwadwo.owusuboakye@outlook.com.\n",
    "\"\"\"\n",
    "\n",
    "# Invoke the chain\n",
    "result = rag_chain.invoke(\n",
    "    {\"input\": question}, \n",
    "    config={\n",
    "        \"configurable\": {\"session_id\": \"user123\"}\n",
    "    }\n",
    ")\n",
    "\n",
    "# Print the result\n",
    "print(result[\"answer\"])"
   ]
  },
  {
   "cell_type": "code",
   "execution_count": 15,
   "metadata": {},
   "outputs": [
    {
     "name": "stdout",
     "output_type": "stream",
     "text": [
      "Messi is a professional soccer player from Argentina who is widely regarded as one of the greatest footballers of all time. Lionel Messi has won numerous awards and accolades throughout his career, including multiple FIFA Ballon d'Or titles. He has played for FC Barcelona and Paris Saint-Germain (PSG) in top-tier leagues such as La Liga and Ligue 1.\n"
     ]
    }
   ],
   "source": [
    "# Example 2 usage with invoke method\n",
    "\n",
    "# Example input question\n",
    "question = \"\"\"\n",
    "Who is Messi?\n",
    "\"\"\"\n",
    "\n",
    "# Invoke the chain\n",
    "result = rag_chain.invoke(\n",
    "    {\"input\": question}, \n",
    "    config={\n",
    "        \"configurable\": {\"session_id\": \"user123\"}\n",
    "    }\n",
    ")\n",
    "\n",
    "# Print the result\n",
    "print(result[\"answer\"])"
   ]
  },
  {
   "cell_type": "code",
   "execution_count": 16,
   "metadata": {},
   "outputs": [
    {
     "name": "stdout",
     "output_type": "stream",
     "text": [
      "Messi is often considered better than Cristiano Ronaldo due to his exceptional dribbling skills, vision, and playmaking abilities on the field. Many fans and experts admire Messi's natural talent, creativity, and ability to control the game through his passing and movement. Additionally, Messi's consistency in delivering outstanding performances over the years and his loyalty to FC Barcelona for a significant part of his career have also contributed to the perception of his greatness compared to Ronaldo.\n"
     ]
    }
   ],
   "source": [
    "# Follow up Question 1: Example 2 usage with invoke method\n",
    "\n",
    "# Example input question\n",
    "question = \"\"\"\n",
    "In what ways is he considered better than Cristiano Ronaldo?\n",
    "\"\"\"\n",
    "\n",
    "# Invoke the chain\n",
    "result = rag_chain.invoke(\n",
    "    {\"input\": question}, \n",
    "    config={\n",
    "        \"configurable\": {\"session_id\": \"user123\"}\n",
    "    }\n",
    ")\n",
    "\n",
    "# Print the result\n",
    "print(result[\"answer\"])"
   ]
  },
  {
   "cell_type": "code",
   "execution_count": 17,
   "metadata": {},
   "outputs": [
    {
     "name": "stdout",
     "output_type": "stream",
     "text": [
      "Cristiano Ronaldo has achieved several milestones that Lionel Messi has not, including winning European Championships with the Portugal national team and triumphs in different domestic leagues such as the English Premier League with Manchester United and Serie A with Juventus. Ronaldo has also been known for his remarkable goal-scoring record and physical prowess, which sets him apart in certain aspects from Messi.\n"
     ]
    }
   ],
   "source": [
    "# Follow up Question 2: Example 2 usage with invoke method\n",
    "\n",
    "# Example input question\n",
    "question = \"\"\"\n",
    "Has Ronaldo achieved any milestones that he hasn't?\n",
    "\"\"\"\n",
    "\n",
    "# Invoke the chain\n",
    "result = rag_chain.invoke(\n",
    "    {\"input\": question}, \n",
    "    config={\n",
    "        \"configurable\": {\"session_id\": \"user123\"}\n",
    "    }\n",
    ")\n",
    "\n",
    "# Print the result\n",
    "print(result[\"answer\"])"
   ]
  },
  {
   "cell_type": "code",
   "execution_count": 18,
   "metadata": {},
   "outputs": [
    {
     "name": "stdout",
     "output_type": "stream",
     "text": [
      "The debate over who is considered the greatest between Lionel Messi and Cristiano Ronaldo is subjective and often comes down to personal preference. Both players have their unique strengths and have achieved remarkable success in their careers, making them arguably two of the greatest footballers of all time.\n"
     ]
    }
   ],
   "source": [
    "# Follow up Question 3: Example 2 usage with invoke method\n",
    "\n",
    "# Example input question\n",
    "question = \"\"\"\n",
    "Between the two, who is considered the greatest?\n",
    "\"\"\"\n",
    "\n",
    "# Invoke the chain\n",
    "result = rag_chain.invoke(\n",
    "    {\"input\": question}, \n",
    "    config={\n",
    "        \"configurable\": {\"session_id\": \"user123\"}\n",
    "    }\n",
    ")\n",
    "\n",
    "# Print the result\n",
    "print(result[\"answer\"])"
   ]
  }
 ],
 "metadata": {
  "kernelspec": {
   "display_name": ".venv",
   "language": "python",
   "name": "python3"
  },
  "language_info": {
   "codemirror_mode": {
    "name": "ipython",
    "version": 3
   },
   "file_extension": ".py",
   "mimetype": "text/x-python",
   "name": "python",
   "nbconvert_exporter": "python",
   "pygments_lexer": "ipython3",
   "version": "3.12.4"
  }
 },
 "nbformat": 4,
 "nbformat_minor": 2
}
